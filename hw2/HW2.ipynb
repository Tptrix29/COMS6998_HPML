{
 "cells": [
  {
   "cell_type": "markdown",
   "metadata": {},
   "source": [
    "## HW2\n",
    "Name: Pei Tian (pt2632)\n"
   ]
  },
  {
   "cell_type": "markdown",
   "metadata": {},
   "source": [
    "### C2: Time Measurement for Code in C1"
   ]
  },
  {
   "cell_type": "code",
   "execution_count": 1,
   "metadata": {},
   "outputs": [
    {
     "name": "stdout",
     "output_type": "stream",
     "text": [
      "Files already downloaded and verified\n"
     ]
    },
    {
     "name": "stderr",
     "output_type": "stream",
     "text": [
      "INFO: [2025-02-26 12:36:18] - Loaded CIFAR-10 training dataset from \"./data\", Size: 50000\n",
      "INFO: [2025-02-26 12:36:18] - Created DataLoader with batch size 128 and 2 workers\n",
      "INFO: [2025-02-26 12:36:18] - Created ResNet18 model [BatchNorm: True]\n",
      "INFO: [2025-02-26 12:36:18] - Using SGD optimizer\n",
      "INFO: [2025-02-26 12:36:18] - Start training ResNet18 ...\n",
      "INFO: [2025-02-26 12:36:18] - Using device: cuda\n",
      "INFO: [2025-02-26 12:36:28] - [Benchmark] - Epoch 1, elapsed: 9.8458s, dataload: 5.9668s, training: 2.9275s\n",
      "INFO: [2025-02-26 12:36:38] - [Benchmark] - Epoch 2, elapsed: 10.0690s, dataload: 6.3478s, training: 2.5224s\n",
      "INFO: [2025-02-26 12:36:49] - [Benchmark] - Epoch 3, elapsed: 10.3354s, dataload: 6.5056s, training: 2.5454s\n",
      "INFO: [2025-02-26 12:36:59] - [Benchmark] - Epoch 4, elapsed: 10.1874s, dataload: 6.4835s, training: 2.6002s\n",
      "INFO: [2025-02-26 12:37:09] - [Benchmark] - Epoch 5, elapsed: 10.4788s, dataload: 6.6561s, training: 2.6011s\n"
     ]
    }
   ],
   "source": [
    "! python main.py --cuda --epochs 5 --batch_size 128 --random_seed 42 --worker 2"
   ]
  },
  {
   "cell_type": "markdown",
   "metadata": {},
   "source": [
    "### C3: "
   ]
  },
  {
   "cell_type": "code",
   "execution_count": 4,
   "metadata": {},
   "outputs": [
    {
     "name": "stdout",
     "output_type": "stream",
     "text": [
      "Files already downloaded and verified\n"
     ]
    },
    {
     "name": "stderr",
     "output_type": "stream",
     "text": [
      "INFO: [2025-02-26 13:20:39] - Loaded CIFAR-10 training dataset from \"./data\", Size: 50000\n",
      "INFO: [2025-02-26 13:20:39] - Created DataLoader with batch size 128 and 0 workers\n",
      "INFO: [2025-02-26 13:20:39] - Created ResNet18 model [BatchNorm: True]\n",
      "INFO: [2025-02-26 13:20:39] - Using SGD optimizer\n",
      "INFO: [2025-02-26 13:20:39] - Start training ResNet18 ...\n",
      "INFO: [2025-02-26 13:20:39] - Using device: cuda\n",
      "INFO: [2025-02-26 13:20:52] - [Benchmark] - Epoch 1, elapsed: 12.4878s, dataload: 8.2477s, training: 2.9072s\n",
      "INFO: [2025-02-26 13:21:05] - [Benchmark] - Epoch 2, elapsed: 13.5265s, dataload: 8.2263s, training: 2.3330s\n",
      "INFO: [2025-02-26 13:21:19] - [Benchmark] - Epoch 3, elapsed: 13.4454s, dataload: 8.1419s, training: 2.3112s\n",
      "INFO: [2025-02-26 13:21:32] - [Benchmark] - Epoch 4, elapsed: 13.3791s, dataload: 8.0514s, training: 2.4207s\n",
      "INFO: [2025-02-26 13:21:45] - [Benchmark] - Epoch 5, elapsed: 13.2132s, dataload: 7.9721s, training: 2.4200s\n"
     ]
    },
    {
     "name": "stdout",
     "output_type": "stream",
     "text": [
      "Files already downloaded and verified\n"
     ]
    },
    {
     "name": "stderr",
     "output_type": "stream",
     "text": [
      "INFO: [2025-02-26 13:21:49] - Loaded CIFAR-10 training dataset from \"./data\", Size: 50000\n",
      "INFO: [2025-02-26 13:21:49] - Created DataLoader with batch size 128 and 4 workers\n",
      "INFO: [2025-02-26 13:21:49] - Created ResNet18 model [BatchNorm: True]\n",
      "INFO: [2025-02-26 13:21:49] - Using SGD optimizer\n",
      "INFO: [2025-02-26 13:21:49] - Start training ResNet18 ...\n",
      "INFO: [2025-02-26 13:21:49] - Using device: cuda\n",
      "INFO: [2025-02-26 13:22:04] - [Benchmark] - Epoch 1, elapsed: 15.4213s, dataload: 10.9673s, training: 3.3471s\n",
      "INFO: [2025-02-26 13:22:19] - [Benchmark] - Epoch 2, elapsed: 15.1429s, dataload: 11.0317s, training: 2.8939s\n",
      "INFO: [2025-02-26 13:22:35] - [Benchmark] - Epoch 3, elapsed: 15.1249s, dataload: 11.0307s, training: 2.8398s\n",
      "INFO: [2025-02-26 13:22:50] - [Benchmark] - Epoch 4, elapsed: 14.9705s, dataload: 10.8460s, training: 2.7781s\n",
      "INFO: [2025-02-26 13:23:05] - [Benchmark] - Epoch 5, elapsed: 15.4277s, dataload: 11.2340s, training: 2.8557s\n"
     ]
    }
   ],
   "source": [
    "! python main.py --cuda --epochs 5 --batch_size 128 --random_seed 42 --worker 0\n",
    "! python main.py --cuda --epochs 5 --batch_size 128 --random_seed 42 --worker 4"
   ]
  },
  {
   "cell_type": "code",
   "execution_count": 3,
   "metadata": {},
   "outputs": [
    {
     "name": "stdout",
     "output_type": "stream",
     "text": [
      "Files already downloaded and verified\n"
     ]
    },
    {
     "name": "stderr",
     "output_type": "stream",
     "text": [
      "INFO: [2025-02-26 13:15:13] - Loaded CIFAR-10 training dataset from \"./data\", Size: 50000\n",
      "INFO: [2025-02-26 13:15:13] - Created DataLoader with batch size 128 and 8 workers\n",
      "INFO: [2025-02-26 13:15:13] - Created ResNet18 model [BatchNorm: True]\n",
      "INFO: [2025-02-26 13:15:13] - Using SGD optimizer\n",
      "INFO: [2025-02-26 13:15:13] - Start training ResNet18 ...\n",
      "INFO: [2025-02-26 13:15:13] - Using device: cuda\n",
      "INFO: [2025-02-26 13:15:41] - [Benchmark] - Epoch 1, elapsed: 27.8990s, dataload: 22.8102s, training: 3.7919s\n",
      "INFO: [2025-02-26 13:16:09] - [Benchmark] - Epoch 2, elapsed: 28.0024s, dataload: 23.8481s, training: 2.7643s\n",
      "INFO: [2025-02-26 13:16:35] - [Benchmark] - Epoch 3, elapsed: 25.9262s, dataload: 21.8527s, training: 2.7310s\n",
      "INFO: [2025-02-26 13:17:01] - [Benchmark] - Epoch 4, elapsed: 26.1619s, dataload: 21.7661s, training: 2.8839s\n",
      "INFO: [2025-02-26 13:17:27] - [Benchmark] - Epoch 5, elapsed: 25.9619s, dataload: 21.6951s, training: 2.8410s\n"
     ]
    },
    {
     "name": "stdout",
     "output_type": "stream",
     "text": [
      "Files already downloaded and verified\n"
     ]
    },
    {
     "name": "stderr",
     "output_type": "stream",
     "text": [
      "INFO: [2025-02-26 13:17:31] - Loaded CIFAR-10 training dataset from \"./data\", Size: 50000\n",
      "INFO: [2025-02-26 13:17:31] - Created DataLoader with batch size 128 and 12 workers\n",
      "INFO: [2025-02-26 13:17:31] - Created ResNet18 model [BatchNorm: True]\n",
      "INFO: [2025-02-26 13:17:31] - Using SGD optimizer\n",
      "INFO: [2025-02-26 13:17:31] - Start training ResNet18 ...\n",
      "INFO: [2025-02-26 13:17:31] - Using device: cuda\n",
      "INFO: [2025-02-26 13:18:08] - [Benchmark] - Epoch 1, elapsed: 36.9511s, dataload: 32.3815s, training: 3.0845s\n",
      "INFO: [2025-02-26 13:18:45] - [Benchmark] - Epoch 2, elapsed: 36.4291s, dataload: 32.2291s, training: 2.6394s\n",
      "INFO: [2025-02-26 13:19:21] - [Benchmark] - Epoch 3, elapsed: 36.6645s, dataload: 32.4550s, training: 2.7042s\n",
      "INFO: [2025-02-26 13:19:59] - [Benchmark] - Epoch 4, elapsed: 37.6004s, dataload: 33.2467s, training: 2.7567s\n",
      "INFO: [2025-02-26 13:20:35] - [Benchmark] - Epoch 5, elapsed: 36.4379s, dataload: 32.1723s, training: 2.7694s\n"
     ]
    }
   ],
   "source": [
    "! python main.py --cuda --epochs 5 --batch_size 128 --random_seed 42 --worker 8\n",
    "! python main.py --cuda --epochs 5 --batch_size 128 --random_seed 42 --worker 12"
   ]
  },
  {
   "cell_type": "code",
   "execution_count": 35,
   "metadata": {},
   "outputs": [
    {
     "data": {
      "text/html": [
       "<div>\n",
       "<style scoped>\n",
       "    .dataframe tbody tr th:only-of-type {\n",
       "        vertical-align: middle;\n",
       "    }\n",
       "\n",
       "    .dataframe tbody tr th {\n",
       "        vertical-align: top;\n",
       "    }\n",
       "\n",
       "    .dataframe thead th {\n",
       "        text-align: right;\n",
       "    }\n",
       "</style>\n",
       "<table border=\"1\" class=\"dataframe\">\n",
       "  <thead>\n",
       "    <tr style=\"text-align: right;\">\n",
       "      <th></th>\n",
       "      <th>num_workers</th>\n",
       "      <th>epoch_idx</th>\n",
       "      <th>elapsed_time</th>\n",
       "      <th>dataload_time</th>\n",
       "      <th>train_time</th>\n",
       "    </tr>\n",
       "  </thead>\n",
       "  <tbody>\n",
       "    <tr>\n",
       "      <th>0</th>\n",
       "      <td>0</td>\n",
       "      <td>1</td>\n",
       "      <td>12.4878</td>\n",
       "      <td>8.2477</td>\n",
       "      <td>2.9072</td>\n",
       "    </tr>\n",
       "    <tr>\n",
       "      <th>1</th>\n",
       "      <td>0</td>\n",
       "      <td>2</td>\n",
       "      <td>13.5265</td>\n",
       "      <td>8.2263</td>\n",
       "      <td>2.3330</td>\n",
       "    </tr>\n",
       "    <tr>\n",
       "      <th>2</th>\n",
       "      <td>0</td>\n",
       "      <td>3</td>\n",
       "      <td>13.4454</td>\n",
       "      <td>8.1419</td>\n",
       "      <td>2.3112</td>\n",
       "    </tr>\n",
       "    <tr>\n",
       "      <th>3</th>\n",
       "      <td>0</td>\n",
       "      <td>4</td>\n",
       "      <td>13.3791</td>\n",
       "      <td>8.0514</td>\n",
       "      <td>2.4207</td>\n",
       "    </tr>\n",
       "    <tr>\n",
       "      <th>4</th>\n",
       "      <td>0</td>\n",
       "      <td>5</td>\n",
       "      <td>13.2132</td>\n",
       "      <td>7.9721</td>\n",
       "      <td>2.4200</td>\n",
       "    </tr>\n",
       "    <tr>\n",
       "      <th>5</th>\n",
       "      <td>4</td>\n",
       "      <td>1</td>\n",
       "      <td>15.4213</td>\n",
       "      <td>10.9673</td>\n",
       "      <td>3.3471</td>\n",
       "    </tr>\n",
       "    <tr>\n",
       "      <th>6</th>\n",
       "      <td>4</td>\n",
       "      <td>2</td>\n",
       "      <td>15.1429</td>\n",
       "      <td>11.0317</td>\n",
       "      <td>2.8939</td>\n",
       "    </tr>\n",
       "    <tr>\n",
       "      <th>7</th>\n",
       "      <td>4</td>\n",
       "      <td>3</td>\n",
       "      <td>15.1249</td>\n",
       "      <td>11.0307</td>\n",
       "      <td>2.8398</td>\n",
       "    </tr>\n",
       "    <tr>\n",
       "      <th>8</th>\n",
       "      <td>4</td>\n",
       "      <td>4</td>\n",
       "      <td>14.9705</td>\n",
       "      <td>10.8460</td>\n",
       "      <td>2.7781</td>\n",
       "    </tr>\n",
       "    <tr>\n",
       "      <th>9</th>\n",
       "      <td>4</td>\n",
       "      <td>5</td>\n",
       "      <td>15.4277</td>\n",
       "      <td>11.2340</td>\n",
       "      <td>2.8557</td>\n",
       "    </tr>\n",
       "    <tr>\n",
       "      <th>10</th>\n",
       "      <td>8</td>\n",
       "      <td>1</td>\n",
       "      <td>27.8990</td>\n",
       "      <td>22.8102</td>\n",
       "      <td>3.7919</td>\n",
       "    </tr>\n",
       "    <tr>\n",
       "      <th>11</th>\n",
       "      <td>8</td>\n",
       "      <td>2</td>\n",
       "      <td>28.0024</td>\n",
       "      <td>23.8481</td>\n",
       "      <td>2.7643</td>\n",
       "    </tr>\n",
       "    <tr>\n",
       "      <th>12</th>\n",
       "      <td>8</td>\n",
       "      <td>3</td>\n",
       "      <td>25.9262</td>\n",
       "      <td>21.8527</td>\n",
       "      <td>2.7310</td>\n",
       "    </tr>\n",
       "    <tr>\n",
       "      <th>13</th>\n",
       "      <td>8</td>\n",
       "      <td>4</td>\n",
       "      <td>26.1619</td>\n",
       "      <td>21.7661</td>\n",
       "      <td>2.8839</td>\n",
       "    </tr>\n",
       "    <tr>\n",
       "      <th>14</th>\n",
       "      <td>8</td>\n",
       "      <td>5</td>\n",
       "      <td>25.9619</td>\n",
       "      <td>21.6951</td>\n",
       "      <td>2.8410</td>\n",
       "    </tr>\n",
       "    <tr>\n",
       "      <th>15</th>\n",
       "      <td>12</td>\n",
       "      <td>1</td>\n",
       "      <td>36.9511</td>\n",
       "      <td>32.3815</td>\n",
       "      <td>3.0845</td>\n",
       "    </tr>\n",
       "    <tr>\n",
       "      <th>16</th>\n",
       "      <td>12</td>\n",
       "      <td>2</td>\n",
       "      <td>36.4291</td>\n",
       "      <td>32.2291</td>\n",
       "      <td>2.6394</td>\n",
       "    </tr>\n",
       "    <tr>\n",
       "      <th>17</th>\n",
       "      <td>12</td>\n",
       "      <td>3</td>\n",
       "      <td>36.6645</td>\n",
       "      <td>32.4550</td>\n",
       "      <td>2.7042</td>\n",
       "    </tr>\n",
       "    <tr>\n",
       "      <th>18</th>\n",
       "      <td>12</td>\n",
       "      <td>4</td>\n",
       "      <td>37.6004</td>\n",
       "      <td>33.2467</td>\n",
       "      <td>2.7567</td>\n",
       "    </tr>\n",
       "    <tr>\n",
       "      <th>19</th>\n",
       "      <td>12</td>\n",
       "      <td>5</td>\n",
       "      <td>36.4379</td>\n",
       "      <td>32.1723</td>\n",
       "      <td>2.7694</td>\n",
       "    </tr>\n",
       "  </tbody>\n",
       "</table>\n",
       "</div>"
      ],
      "text/plain": [
       "    num_workers  epoch_idx  elapsed_time  dataload_time  train_time\n",
       "0             0          1       12.4878         8.2477      2.9072\n",
       "1             0          2       13.5265         8.2263      2.3330\n",
       "2             0          3       13.4454         8.1419      2.3112\n",
       "3             0          4       13.3791         8.0514      2.4207\n",
       "4             0          5       13.2132         7.9721      2.4200\n",
       "5             4          1       15.4213        10.9673      3.3471\n",
       "6             4          2       15.1429        11.0317      2.8939\n",
       "7             4          3       15.1249        11.0307      2.8398\n",
       "8             4          4       14.9705        10.8460      2.7781\n",
       "9             4          5       15.4277        11.2340      2.8557\n",
       "10            8          1       27.8990        22.8102      3.7919\n",
       "11            8          2       28.0024        23.8481      2.7643\n",
       "12            8          3       25.9262        21.8527      2.7310\n",
       "13            8          4       26.1619        21.7661      2.8839\n",
       "14            8          5       25.9619        21.6951      2.8410\n",
       "15           12          1       36.9511        32.3815      3.0845\n",
       "16           12          2       36.4291        32.2291      2.6394\n",
       "17           12          3       36.6645        32.4550      2.7042\n",
       "18           12          4       37.6004        33.2467      2.7567\n",
       "19           12          5       36.4379        32.1723      2.7694"
      ]
     },
     "execution_count": 35,
     "metadata": {},
     "output_type": "execute_result"
    }
   ],
   "source": [
    "import re\n",
    "import pandas as pd\n",
    "import matplotlib.pyplot as plt\n",
    "\n",
    "num_workers = []\n",
    "epoch_idx = []\n",
    "elapsed_time = []\n",
    "dataload_time = []\n",
    "train_time = []\n",
    "\n",
    "worker = None\n",
    "def parse_log(logfile: str):\n",
    "    for line in open(logfile):\n",
    "        line = line.strip()\n",
    "        message = line.split(' - ')[-1]\n",
    "        if \"DataLoader\" in message:\n",
    "            worker = re.findall(r'\\d+', message)[-1]\n",
    "        elif \"Epoch\" in message:\n",
    "            epoch = re.search(r'\\d+', message).group()\n",
    "            elapsed, dataload, train = re.findall(r'\\d+\\.\\d+', message)\n",
    "            num_workers.append(int(worker))\n",
    "            epoch_idx.append(int(epoch))\n",
    "            elapsed_time.append(float(elapsed))\n",
    "            dataload_time.append(float(dataload))\n",
    "            train_time.append(float(train))\n",
    "    return pd.DataFrame({\n",
    "        'num_workers': num_workers,\n",
    "        'epoch_idx': epoch_idx,\n",
    "        'elapsed_time': elapsed_time,\n",
    "        'dataload_time': dataload_time,\n",
    "        'train_time': train_time\n",
    "    })\n",
    "df = parse_log('C3.log')\n",
    "df"
   ]
  },
  {
   "cell_type": "code",
   "execution_count": null,
   "metadata": {},
   "outputs": [
    {
     "data": {
      "image/png": "[encoded data removed]",
      "text/plain": [
       "<Figure size 1000x600 with 1 Axes>"
      ]
     },
     "metadata": {},
     "output_type": "display_data"
    }
   ],
   "source": [
    "df.groupby('num_workers')[['train_time', 'dataload_time', 'elapsed_time']].mean()\\\n",
    "    .plot(kind='bar', figsize=(10, 6), title='Average Time (s) per Epoch')\n",
    "plt.show()"
   ]
  }
 ],
 "metadata": {
  "kernelspec": {
   "display_name": "aigc",
   "language": "python",
   "name": "python3"
  },
  "language_info": {
   "codemirror_mode": {
    "name": "ipython",
    "version": 3
   },
   "file_extension": ".py",
   "mimetype": "text/x-python",
   "name": "python",
   "nbconvert_exporter": "python",
   "pygments_lexer": "ipython3",
   "version": "3.12.4"
  }
 },
 "nbformat": 4,
 "nbformat_minor": 2
}
